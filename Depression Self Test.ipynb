{
 "cells": [
  {
   "cell_type": "markdown",
   "metadata": {},
   "source": [
    "# Depression Self Test"
   ]
  },
  {
   "cell_type": "code",
   "execution_count": 1,
   "metadata": {
    "scrolled": true
   },
   "outputs": [],
   "source": [
    "import pandas as pd\n",
    "import numpy as np\n",
    "import warnings\n",
    "warnings.filterwarnings('ignore')\n",
    "import matplotlib.pyplot as plt\n",
    "import seaborn as sns\n",
    "%matplotlib inline\n",
    "sns.set()"
   ]
  },
  {
   "cell_type": "code",
   "execution_count": 2,
   "metadata": {},
   "outputs": [
    {
     "name": "stderr",
     "output_type": "stream",
     "text": [
      "[nltk_data] Downloading package stopwords to\n",
      "[nltk_data]     C:\\Users\\HAPPY\\AppData\\Roaming\\nltk_data...\n",
      "[nltk_data]   Package stopwords is already up-to-date!\n"
     ]
    }
   ],
   "source": [
    "import re\n",
    "import nltk\n",
    "nltk.download('stopwords')\n",
    "from nltk.corpus import stopwords\n",
    "from nltk.tokenize import TweetTokenizer\n",
    "from nltk.stem.snowball import SnowballStemmer\n",
    "\n",
    "import logging\n",
    "\n",
    "from gensim.models import word2vec"
   ]
  },
  {
   "cell_type": "code",
   "execution_count": 3,
   "metadata": {},
   "outputs": [],
   "source": [
    "stop_words = set(stopwords.words(\"english\"))\n",
    "tokenizer = TweetTokenizer()\n",
    "stemmer = SnowballStemmer('english')"
   ]
  },
  {
   "cell_type": "markdown",
   "metadata": {},
   "source": [
    "---\n",
    "# 1. 데이터 불러오기"
   ]
  },
  {
   "cell_type": "code",
   "execution_count": 4,
   "metadata": {},
   "outputs": [
    {
     "data": {
      "text/html": [
       "<div>\n",
       "<style scoped>\n",
       "    .dataframe tbody tr th:only-of-type {\n",
       "        vertical-align: middle;\n",
       "    }\n",
       "\n",
       "    .dataframe tbody tr th {\n",
       "        vertical-align: top;\n",
       "    }\n",
       "\n",
       "    .dataframe thead th {\n",
       "        text-align: right;\n",
       "    }\n",
       "</style>\n",
       "<table border=\"1\" class=\"dataframe\">\n",
       "  <thead>\n",
       "    <tr style=\"text-align: right;\">\n",
       "      <th></th>\n",
       "      <th>textID</th>\n",
       "      <th>text</th>\n",
       "      <th>selected_text</th>\n",
       "      <th>sentiment</th>\n",
       "    </tr>\n",
       "  </thead>\n",
       "  <tbody>\n",
       "    <tr>\n",
       "      <th>0</th>\n",
       "      <td>cb774db0d1</td>\n",
       "      <td>I`d have responded, if I were going</td>\n",
       "      <td>I`d have responded, if I were going</td>\n",
       "      <td>neutral</td>\n",
       "    </tr>\n",
       "    <tr>\n",
       "      <th>1</th>\n",
       "      <td>549e992a42</td>\n",
       "      <td>Sooo SAD I will miss you here in San Diego!!!</td>\n",
       "      <td>Sooo SAD</td>\n",
       "      <td>negative</td>\n",
       "    </tr>\n",
       "    <tr>\n",
       "      <th>2</th>\n",
       "      <td>088c60f138</td>\n",
       "      <td>my boss is bullying me...</td>\n",
       "      <td>bullying me</td>\n",
       "      <td>negative</td>\n",
       "    </tr>\n",
       "    <tr>\n",
       "      <th>3</th>\n",
       "      <td>9642c003ef</td>\n",
       "      <td>what interview! leave me alone</td>\n",
       "      <td>leave me alone</td>\n",
       "      <td>negative</td>\n",
       "    </tr>\n",
       "    <tr>\n",
       "      <th>4</th>\n",
       "      <td>358bd9e861</td>\n",
       "      <td>Sons of ****, why couldn`t they put them on t...</td>\n",
       "      <td>Sons of ****,</td>\n",
       "      <td>negative</td>\n",
       "    </tr>\n",
       "  </tbody>\n",
       "</table>\n",
       "</div>"
      ],
      "text/plain": [
       "       textID                                               text  \\\n",
       "0  cb774db0d1                I`d have responded, if I were going   \n",
       "1  549e992a42      Sooo SAD I will miss you here in San Diego!!!   \n",
       "2  088c60f138                          my boss is bullying me...   \n",
       "3  9642c003ef                     what interview! leave me alone   \n",
       "4  358bd9e861   Sons of ****, why couldn`t they put them on t...   \n",
       "\n",
       "                         selected_text sentiment  \n",
       "0  I`d have responded, if I were going   neutral  \n",
       "1                             Sooo SAD  negative  \n",
       "2                          bullying me  negative  \n",
       "3                       leave me alone  negative  \n",
       "4                        Sons of ****,  negative  "
      ]
     },
     "execution_count": 4,
     "metadata": {},
     "output_type": "execute_result"
    }
   ],
   "source": [
    "train = pd.read_csv('train.csv')\n",
    "test = pd.read_csv('test.csv')\n",
    "train.head()"
   ]
  },
  {
   "cell_type": "markdown",
   "metadata": {},
   "source": [
    "---\n",
    "# 2. EDA & Feature Engineering"
   ]
  },
  {
   "cell_type": "code",
   "execution_count": 5,
   "metadata": {},
   "outputs": [
    {
     "name": "stdout",
     "output_type": "stream",
     "text": [
      "<class 'pandas.core.frame.DataFrame'>\n",
      "RangeIndex: 27480 entries, 0 to 27479\n",
      "Data columns (total 4 columns):\n",
      " #   Column         Non-Null Count  Dtype \n",
      "---  ------         --------------  ----- \n",
      " 0   textID         27480 non-null  object\n",
      " 1   text           27480 non-null  object\n",
      " 2   selected_text  27480 non-null  object\n",
      " 3   sentiment      27480 non-null  object\n",
      "dtypes: object(4)\n",
      "memory usage: 858.9+ KB\n"
     ]
    }
   ],
   "source": [
    "train.info()"
   ]
  },
  {
   "cell_type": "code",
   "execution_count": 6,
   "metadata": {},
   "outputs": [
    {
     "data": {
      "text/html": [
       "<div>\n",
       "<style scoped>\n",
       "    .dataframe tbody tr th:only-of-type {\n",
       "        vertical-align: middle;\n",
       "    }\n",
       "\n",
       "    .dataframe tbody tr th {\n",
       "        vertical-align: top;\n",
       "    }\n",
       "\n",
       "    .dataframe thead th {\n",
       "        text-align: right;\n",
       "    }\n",
       "</style>\n",
       "<table border=\"1\" class=\"dataframe\">\n",
       "  <thead>\n",
       "    <tr style=\"text-align: right;\">\n",
       "      <th></th>\n",
       "      <th>textID</th>\n",
       "      <th>text</th>\n",
       "      <th>selected_text</th>\n",
       "      <th>sentiment</th>\n",
       "    </tr>\n",
       "  </thead>\n",
       "  <tbody>\n",
       "    <tr>\n",
       "      <th>count</th>\n",
       "      <td>27480</td>\n",
       "      <td>27480</td>\n",
       "      <td>27480</td>\n",
       "      <td>27480</td>\n",
       "    </tr>\n",
       "    <tr>\n",
       "      <th>unique</th>\n",
       "      <td>27480</td>\n",
       "      <td>27480</td>\n",
       "      <td>22430</td>\n",
       "      <td>3</td>\n",
       "    </tr>\n",
       "    <tr>\n",
       "      <th>top</th>\n",
       "      <td>df398a774e</td>\n",
       "      <td>Roscoe - Smooth Sailin` WHY DID NO ONE TELL ME...</td>\n",
       "      <td>good</td>\n",
       "      <td>neutral</td>\n",
       "    </tr>\n",
       "    <tr>\n",
       "      <th>freq</th>\n",
       "      <td>1</td>\n",
       "      <td>1</td>\n",
       "      <td>199</td>\n",
       "      <td>11117</td>\n",
       "    </tr>\n",
       "  </tbody>\n",
       "</table>\n",
       "</div>"
      ],
      "text/plain": [
       "            textID                                               text  \\\n",
       "count        27480                                              27480   \n",
       "unique       27480                                              27480   \n",
       "top     df398a774e  Roscoe - Smooth Sailin` WHY DID NO ONE TELL ME...   \n",
       "freq             1                                                  1   \n",
       "\n",
       "       selected_text sentiment  \n",
       "count          27480     27480  \n",
       "unique         22430         3  \n",
       "top             good   neutral  \n",
       "freq             199     11117  "
      ]
     },
     "execution_count": 6,
     "metadata": {},
     "output_type": "execute_result"
    }
   ],
   "source": [
    "train.describe()"
   ]
  },
  {
   "cell_type": "markdown",
   "metadata": {},
   "source": [
    "## - 결측치 유무 확인"
   ]
  },
  {
   "cell_type": "code",
   "execution_count": 7,
   "metadata": {},
   "outputs": [
    {
     "data": {
      "text/plain": [
       "textID           0\n",
       "text             0\n",
       "selected_text    0\n",
       "sentiment        0\n",
       "dtype: int64"
      ]
     },
     "execution_count": 7,
     "metadata": {},
     "output_type": "execute_result"
    }
   ],
   "source": [
    "# 결측치 유무 확인\n",
    "train.isnull().sum()"
   ]
  },
  {
   "cell_type": "markdown",
   "metadata": {},
   "source": [
    "## - 라벨 분포도"
   ]
  },
  {
   "cell_type": "code",
   "execution_count": 8,
   "metadata": {},
   "outputs": [
    {
     "data": {
      "image/png": "[encoded data removed]",
      "text/plain": [
       "<Figure size 432x288 with 1 Axes>"
      ]
     },
     "metadata": {},
     "output_type": "display_data"
    }
   ],
   "source": [
    "sns.countplot(x=\"sentiment\", data=train)\n",
    "plt.show()"
   ]
  },
  {
   "cell_type": "markdown",
   "metadata": {},
   "source": [
    "---\n",
    "# 3. 데이터셋 구성"
   ]
  },
  {
   "cell_type": "markdown",
   "metadata": {},
   "source": [
    "## - 데이터 전처리"
   ]
  },
  {
   "cell_type": "code",
   "execution_count": 9,
   "metadata": {},
   "outputs": [],
   "source": [
    "# 텍스트 전처리 함수\n",
    "def preprocessing(train, tokenizer, remove_stopwords=False):\n",
    "    \n",
    "    # 모두 소문자로 변환\n",
    "    lower_type = train.lower()\n",
    "    \n",
    "    # 개행 제거\n",
    "    n_drop = re.sub('\\\\n', \" \", lower_type)\n",
    "    \n",
    "    # 특문 제거\n",
    "    parse = re.sub(r'[^a-zA-Z ]', ' ', n_drop)\n",
    "    \n",
    "    # 토큰화\n",
    "    words = tokenizer.tokenize(parse)\n",
    "        \n",
    "    # 불용어 제거\n",
    "    if remove_stopwords:\n",
    "        words = [w for w in words if not w in stop_words]\n",
    "\n",
    "    # 어간 추출\n",
    "    word_lem = [stemmer.stem(w) for w in words]\n",
    "\n",
    "    \n",
    "    return(word_lem)"
   ]
  },
  {
   "cell_type": "markdown",
   "metadata": {},
   "source": [
    "### train set 전처리"
   ]
  },
  {
   "cell_type": "code",
   "execution_count": 10,
   "metadata": {},
   "outputs": [],
   "source": [
    "# 라벨(sentiment) 수치화\n",
    "for i in range(0,train['text'].count()+1):\n",
    "    try:\n",
    "        if train['sentiment'][i] == \"neutral\":\n",
    "            train['sentiment'][i] = -1\n",
    "                \n",
    "        elif train['sentiment'][i] == \"negative\":\n",
    "            train['sentiment'][i] = 1\n",
    "            \n",
    "        elif train['sentiment'][i] == \"positive\":\n",
    "            train['sentiment'][i] = 0\n",
    "\n",
    "            \n",
    "        else:\n",
    "            i += 1\n",
    "            \n",
    "    except KeyError:\n",
    "        i += 1"
   ]
  },
  {
   "cell_type": "code",
   "execution_count": 11,
   "metadata": {},
   "outputs": [
    {
     "data": {
      "text/html": [
       "<div>\n",
       "<style scoped>\n",
       "    .dataframe tbody tr th:only-of-type {\n",
       "        vertical-align: middle;\n",
       "    }\n",
       "\n",
       "    .dataframe tbody tr th {\n",
       "        vertical-align: top;\n",
       "    }\n",
       "\n",
       "    .dataframe thead th {\n",
       "        text-align: right;\n",
       "    }\n",
       "</style>\n",
       "<table border=\"1\" class=\"dataframe\">\n",
       "  <thead>\n",
       "    <tr style=\"text-align: right;\">\n",
       "      <th></th>\n",
       "      <th>text</th>\n",
       "      <th>sentiment</th>\n",
       "    </tr>\n",
       "  </thead>\n",
       "  <tbody>\n",
       "    <tr>\n",
       "      <th>0</th>\n",
       "      <td>Sooo SAD I will miss you here in San Diego!!!</td>\n",
       "      <td>1</td>\n",
       "    </tr>\n",
       "    <tr>\n",
       "      <th>1</th>\n",
       "      <td>my boss is bullying me...</td>\n",
       "      <td>1</td>\n",
       "    </tr>\n",
       "    <tr>\n",
       "      <th>2</th>\n",
       "      <td>what interview! leave me alone</td>\n",
       "      <td>1</td>\n",
       "    </tr>\n",
       "    <tr>\n",
       "      <th>3</th>\n",
       "      <td>Sons of ****, why couldn`t they put them on t...</td>\n",
       "      <td>1</td>\n",
       "    </tr>\n",
       "    <tr>\n",
       "      <th>4</th>\n",
       "      <td>2am feedings for the baby are fun when he is a...</td>\n",
       "      <td>0</td>\n",
       "    </tr>\n",
       "    <tr>\n",
       "      <th>...</th>\n",
       "      <td>...</td>\n",
       "      <td>...</td>\n",
       "    </tr>\n",
       "    <tr>\n",
       "      <th>16358</th>\n",
       "      <td>enjoy ur night</td>\n",
       "      <td>0</td>\n",
       "    </tr>\n",
       "    <tr>\n",
       "      <th>16359</th>\n",
       "      <td>wish we could come see u on Denver  husband l...</td>\n",
       "      <td>1</td>\n",
       "    </tr>\n",
       "    <tr>\n",
       "      <th>16360</th>\n",
       "      <td>I`ve wondered about rake to.  The client has ...</td>\n",
       "      <td>1</td>\n",
       "    </tr>\n",
       "    <tr>\n",
       "      <th>16361</th>\n",
       "      <td>Yay good for both of you. Enjoy the break - y...</td>\n",
       "      <td>0</td>\n",
       "    </tr>\n",
       "    <tr>\n",
       "      <th>16362</th>\n",
       "      <td>But it was worth it  ****.</td>\n",
       "      <td>0</td>\n",
       "    </tr>\n",
       "  </tbody>\n",
       "</table>\n",
       "<p>16363 rows × 2 columns</p>\n",
       "</div>"
      ],
      "text/plain": [
       "                                                    text sentiment\n",
       "0          Sooo SAD I will miss you here in San Diego!!!         1\n",
       "1                              my boss is bullying me...         1\n",
       "2                         what interview! leave me alone         1\n",
       "3       Sons of ****, why couldn`t they put them on t...         1\n",
       "4      2am feedings for the baby are fun when he is a...         0\n",
       "...                                                  ...       ...\n",
       "16358                                     enjoy ur night         0\n",
       "16359   wish we could come see u on Denver  husband l...         1\n",
       "16360   I`ve wondered about rake to.  The client has ...         1\n",
       "16361   Yay good for both of you. Enjoy the break - y...         0\n",
       "16362                         But it was worth it  ****.         0\n",
       "\n",
       "[16363 rows x 2 columns]"
      ]
     },
     "execution_count": 11,
     "metadata": {},
     "output_type": "execute_result"
    }
   ],
   "source": [
    "# 데이터중 textID와 selected_text는 불필요하므로 제거\n",
    "train_data = train[['text','sentiment']]\n",
    "\n",
    "# 라벨(sentiment) 중 neutral(중립)인 것은 불필요하므로 제거\n",
    "train_data.loc[train_data['sentiment'] == -1, 'sentiment'] = np.nan\n",
    "train_data = train_data.dropna(how = 'any')\n",
    "\n",
    "# 제거 후 index 재정렬\n",
    "train_data = train_data.reset_index(drop = True)\n",
    "train_data"
   ]
  },
  {
   "cell_type": "markdown",
   "metadata": {},
   "source": [
    "### test set 전처리 (train set과 동일)"
   ]
  },
  {
   "cell_type": "code",
   "execution_count": 12,
   "metadata": {},
   "outputs": [],
   "source": [
    "for i in range(0,test['text'].count()+1):\n",
    "    try:\n",
    "        if test['sentiment'][i] == \"neutral\":\n",
    "            test['sentiment'][i] = -1\n",
    "            \n",
    "        elif test['sentiment'][i] == \"negative\":\n",
    "            test['sentiment'][i] = 1\n",
    "            \n",
    "        elif test['sentiment'][i] == \"positive\":\n",
    "            test['sentiment'][i] = 0        \n",
    "            \n",
    "        else:\n",
    "            i += 1\n",
    "            \n",
    "    except KeyError:\n",
    "        i += 1"
   ]
  },
  {
   "cell_type": "code",
   "execution_count": 13,
   "metadata": {
    "scrolled": true
   },
   "outputs": [
    {
     "data": {
      "text/html": [
       "<div>\n",
       "<style scoped>\n",
       "    .dataframe tbody tr th:only-of-type {\n",
       "        vertical-align: middle;\n",
       "    }\n",
       "\n",
       "    .dataframe tbody tr th {\n",
       "        vertical-align: top;\n",
       "    }\n",
       "\n",
       "    .dataframe thead th {\n",
       "        text-align: right;\n",
       "    }\n",
       "</style>\n",
       "<table border=\"1\" class=\"dataframe\">\n",
       "  <thead>\n",
       "    <tr style=\"text-align: right;\">\n",
       "      <th></th>\n",
       "      <th>text</th>\n",
       "      <th>sentiment</th>\n",
       "    </tr>\n",
       "  </thead>\n",
       "  <tbody>\n",
       "    <tr>\n",
       "      <th>0</th>\n",
       "      <td>Shanghai is also really exciting (precisely -...</td>\n",
       "      <td>0</td>\n",
       "    </tr>\n",
       "    <tr>\n",
       "      <th>1</th>\n",
       "      <td>Recession hit Veronique Branquinho, she has to...</td>\n",
       "      <td>1</td>\n",
       "    </tr>\n",
       "    <tr>\n",
       "      <th>2</th>\n",
       "      <td>happy bday!</td>\n",
       "      <td>0</td>\n",
       "    </tr>\n",
       "    <tr>\n",
       "      <th>3</th>\n",
       "      <td>http://twitpic.com/4w75p - I like it!!</td>\n",
       "      <td>0</td>\n",
       "    </tr>\n",
       "    <tr>\n",
       "      <th>4</th>\n",
       "      <td>that`s great!! weee!! visitors!</td>\n",
       "      <td>0</td>\n",
       "    </tr>\n",
       "    <tr>\n",
       "      <th>...</th>\n",
       "      <td>...</td>\n",
       "      <td>...</td>\n",
       "    </tr>\n",
       "    <tr>\n",
       "      <th>2099</th>\n",
       "      <td>its at 3 am, im very tired but i can`t sleep  ...</td>\n",
       "      <td>1</td>\n",
       "    </tr>\n",
       "    <tr>\n",
       "      <th>2100</th>\n",
       "      <td>All alone in this old house again.  Thanks for...</td>\n",
       "      <td>0</td>\n",
       "    </tr>\n",
       "    <tr>\n",
       "      <th>2101</th>\n",
       "      <td>I know what you mean. My little dog is sinkin...</td>\n",
       "      <td>1</td>\n",
       "    </tr>\n",
       "    <tr>\n",
       "      <th>2102</th>\n",
       "      <td>_sutra what is your next youtube video gonna b...</td>\n",
       "      <td>0</td>\n",
       "    </tr>\n",
       "    <tr>\n",
       "      <th>2103</th>\n",
       "      <td>http://twitpic.com/4woj2 - omgssh  ang cute n...</td>\n",
       "      <td>0</td>\n",
       "    </tr>\n",
       "  </tbody>\n",
       "</table>\n",
       "<p>2104 rows × 2 columns</p>\n",
       "</div>"
      ],
      "text/plain": [
       "                                                   text sentiment\n",
       "0      Shanghai is also really exciting (precisely -...         0\n",
       "1     Recession hit Veronique Branquinho, she has to...         1\n",
       "2                                           happy bday!         0\n",
       "3                http://twitpic.com/4w75p - I like it!!         0\n",
       "4                       that`s great!! weee!! visitors!         0\n",
       "...                                                 ...       ...\n",
       "2099  its at 3 am, im very tired but i can`t sleep  ...         1\n",
       "2100  All alone in this old house again.  Thanks for...         0\n",
       "2101   I know what you mean. My little dog is sinkin...         1\n",
       "2102  _sutra what is your next youtube video gonna b...         0\n",
       "2103   http://twitpic.com/4woj2 - omgssh  ang cute n...         0\n",
       "\n",
       "[2104 rows x 2 columns]"
      ]
     },
     "execution_count": 13,
     "metadata": {},
     "output_type": "execute_result"
    }
   ],
   "source": [
    "test_data = test[['text','sentiment']]\n",
    "test_data.loc[test_data['sentiment'] == -1, 'sentiment'] = np.nan\n",
    "test_data = test_data.dropna(how = 'any')\n",
    "test_data = test_data.reset_index(drop = True)\n",
    "test_data"
   ]
  },
  {
   "cell_type": "markdown",
   "metadata": {},
   "source": [
    "## - Word2Vec을 이용한 워드 임베딩"
   ]
  },
  {
   "cell_type": "code",
   "execution_count": 14,
   "metadata": {},
   "outputs": [],
   "source": [
    "# Word2Vec 훈련에 이용할 데이터 생성\n",
    "sentences=[]\n",
    "\n",
    "for i in range(0,train_data['text'].count()+1):\n",
    "    try:\n",
    "        sentences.append(preprocessing(train_data['text'][i], tokenizer, remove_stopwords=False))\n",
    "    except KeyError:\n",
    "        i += 1"
   ]
  },
  {
   "cell_type": "code",
   "execution_count": 15,
   "metadata": {},
   "outputs": [],
   "source": [
    "# W2V 학습시 출력메세지 생성하도록\n",
    "# 기본 로깅 모듈 구성\n",
    "logging.basicConfig(format = '%(asctime)s:%(levelname)s:%(message)s', level=logging.INFO)"
   ]
  },
  {
   "cell_type": "code",
   "execution_count": 16,
   "metadata": {},
   "outputs": [
    {
     "name": "stderr",
     "output_type": "stream",
     "text": [
      "2020-07-21 04:21:44,620:INFO:collecting all words and their counts\n",
      "2020-07-21 04:21:44,620:INFO:PROGRESS: at sentence #0, processed 0 words, keeping 0 word types\n",
      "2020-07-21 04:21:44,669:INFO:PROGRESS: at sentence #10000, processed 136981 words, keeping 10713 word types\n",
      "2020-07-21 04:21:44,722:INFO:collected 14228 word types from a corpus of 223552 raw words and 16363 sentences\n",
      "2020-07-21 04:21:44,724:INFO:Loading a fresh vocabulary\n",
      "2020-07-21 04:21:44,738:INFO:effective_min_count=40 retains 632 unique words (4% of original 14228, drops 13596)\n",
      "2020-07-21 04:21:44,739:INFO:effective_min_count=40 leaves 179773 word corpus (80% of original 223552, drops 43779)\n",
      "2020-07-21 04:21:44,743:INFO:deleting the raw counts dictionary of 14228 items\n",
      "2020-07-21 04:21:44,745:INFO:sample=0.001 downsamples 79 most-common words\n",
      "2020-07-21 04:21:44,745:INFO:downsampling leaves estimated 119392 word corpus (66.4% of prior 179773)\n",
      "2020-07-21 04:21:44,749:INFO:estimated required memory for 632 words and 300 dimensions: 1832800 bytes\n",
      "2020-07-21 04:21:44,750:INFO:resetting layer weights\n",
      "2020-07-21 04:21:45,022:INFO:training model with 4 workers on 632 vocabulary and 300 features, using sg=0 hs=0 sample=0.001 negative=5 window=10\n",
      "2020-07-21 04:21:45,227:INFO:worker thread finished; awaiting finish of 3 more threads\n",
      "2020-07-21 04:21:45,236:INFO:worker thread finished; awaiting finish of 2 more threads\n",
      "2020-07-21 04:21:45,238:INFO:worker thread finished; awaiting finish of 1 more threads\n",
      "2020-07-21 04:21:45,239:INFO:worker thread finished; awaiting finish of 0 more threads\n",
      "2020-07-21 04:21:45,240:INFO:EPOCH - 1 : training on 223552 raw words (119264 effective words) took 0.2s, 590855 effective words/s\n",
      "2020-07-21 04:21:45,419:INFO:worker thread finished; awaiting finish of 3 more threads\n",
      "2020-07-21 04:21:45,420:INFO:worker thread finished; awaiting finish of 2 more threads\n",
      "2020-07-21 04:21:45,429:INFO:worker thread finished; awaiting finish of 1 more threads\n",
      "2020-07-21 04:21:45,432:INFO:worker thread finished; awaiting finish of 0 more threads\n",
      "2020-07-21 04:21:45,433:INFO:EPOCH - 2 : training on 223552 raw words (119542 effective words) took 0.2s, 655949 effective words/s\n",
      "2020-07-21 04:21:45,644:INFO:worker thread finished; awaiting finish of 3 more threads\n",
      "2020-07-21 04:21:45,652:INFO:worker thread finished; awaiting finish of 2 more threads\n",
      "2020-07-21 04:21:45,655:INFO:worker thread finished; awaiting finish of 1 more threads\n",
      "2020-07-21 04:21:45,661:INFO:worker thread finished; awaiting finish of 0 more threads\n",
      "2020-07-21 04:21:45,663:INFO:EPOCH - 3 : training on 223552 raw words (119515 effective words) took 0.2s, 550044 effective words/s\n",
      "2020-07-21 04:21:45,915:INFO:worker thread finished; awaiting finish of 3 more threads\n",
      "2020-07-21 04:21:45,923:INFO:worker thread finished; awaiting finish of 2 more threads\n",
      "2020-07-21 04:21:45,926:INFO:worker thread finished; awaiting finish of 1 more threads\n",
      "2020-07-21 04:21:45,930:INFO:worker thread finished; awaiting finish of 0 more threads\n",
      "2020-07-21 04:21:45,931:INFO:EPOCH - 4 : training on 223552 raw words (119409 effective words) took 0.3s, 470807 effective words/s\n",
      "2020-07-21 04:21:46,153:INFO:worker thread finished; awaiting finish of 3 more threads\n",
      "2020-07-21 04:21:46,156:INFO:worker thread finished; awaiting finish of 2 more threads\n",
      "2020-07-21 04:21:46,160:INFO:worker thread finished; awaiting finish of 1 more threads\n",
      "2020-07-21 04:21:46,169:INFO:worker thread finished; awaiting finish of 0 more threads\n",
      "2020-07-21 04:21:46,171:INFO:EPOCH - 5 : training on 223552 raw words (119450 effective words) took 0.2s, 532092 effective words/s\n",
      "2020-07-21 04:21:46,173:INFO:training on a 1117760 raw words (597180 effective words) took 1.1s, 519804 effective words/s\n"
     ]
    },
    {
     "data": {
      "text/plain": [
       "<gensim.models.word2vec.Word2Vec at 0x298e80ba088>"
      ]
     },
     "execution_count": 16,
     "metadata": {},
     "output_type": "execute_result"
    }
   ],
   "source": [
    "num_features = 300         # 단어 벡터차원 수 (많을 수록 시간 오래 걸리고 좋아짐)\n",
    "min_word_count = 40          # 최소 문자 수 (10~100 사이 추천)\n",
    "num_workers = 4          # 병렬로 실행할 thread 수\n",
    "context = 10          #문자열 창 크기\n",
    "downsampling = 1e-3          #문자 빈도 수에대한 downsample\n",
    "\n",
    "# 모델 학습\n",
    "model = word2vec.Word2Vec(sentences, \n",
    "                          workers = num_workers,\n",
    "                          size = num_features,\n",
    "                          min_count = min_word_count,\n",
    "                          window = context,\n",
    "                          sample = downsampling)\n",
    "model"
   ]
  },
  {
   "cell_type": "code",
   "execution_count": 17,
   "metadata": {},
   "outputs": [
    {
     "name": "stderr",
     "output_type": "stream",
     "text": [
      "2020-07-21 04:21:46,191:INFO:precomputing L2-norms of word weight vectors\n",
      "2020-07-21 04:21:46,195:INFO:saving Word2Vec object under 300feautres_40minwords_10text, separately None\n",
      "2020-07-21 04:21:46,197:INFO:not storing attribute vectors_norm\n",
      "2020-07-21 04:21:46,199:INFO:not storing attribute cum_table\n",
      "2020-07-21 04:21:46,223:INFO:saved 300feautres_40minwords_10text\n"
     ]
    }
   ],
   "source": [
    "# 학습 완료면 필요없는 메모리 unload\n",
    "model.init_sims(replace=True)\n",
    "\n",
    "# 모델 save\n",
    "model_name = '300feautres_40minwords_10text'\n",
    "model.save(model_name)"
   ]
  },
  {
   "cell_type": "code",
   "execution_count": 18,
   "metadata": {},
   "outputs": [
    {
     "data": {
      "text/plain": [
       "'i'"
      ]
     },
     "execution_count": 18,
     "metadata": {},
     "output_type": "execute_result"
    }
   ],
   "source": [
    "# 모델 결과 탐색\n",
    "# 가장 유사도 없는 단어 확인가능\n",
    "model.wv.doesnt_match('he she i car'.split())"
   ]
  },
  {
   "cell_type": "code",
   "execution_count": 19,
   "metadata": {},
   "outputs": [
    {
     "data": {
      "text/plain": [
       "[('left', 0.9927546977996826),\n",
       " ('walk', 0.9925647974014282),\n",
       " ('class', 0.9923371076583862),\n",
       " ('full', 0.9922627210617065),\n",
       " ('end', 0.9906659126281738),\n",
       " ('room', 0.9902822971343994),\n",
       " ('took', 0.9889705777168274),\n",
       " ('woke', 0.9883118867874146),\n",
       " ('summer', 0.988208532333374),\n",
       " ('sinc', 0.9882078766822815)]"
      ]
     },
     "execution_count": 19,
     "metadata": {},
     "output_type": "execute_result"
    }
   ],
   "source": [
    "# 가장 유사한 단어 확인가능\n",
    "model.wv.most_similar('car')"
   ]
  },
  {
   "cell_type": "code",
   "execution_count": 20,
   "metadata": {},
   "outputs": [],
   "source": [
    "# 단어 벡터의 평균 구함\n",
    "# list의 각 칸 넘어옴\n",
    "\n",
    "def makeFeatureVec(words, model, num_features):\n",
    "    # 0으로 채운 배열로 초기화함(빠르게 하려고)\n",
    "    featureVec = np.zeros((num_features,),dtype=\"float32\")\n",
    "    \n",
    "    nwords = 0.\n",
    "    \n",
    "    # 단어명 담은 리스트\n",
    "    index2word_set = set(model.wv.index2word)\n",
    "    \n",
    "    # 사전에 포함된 단어만 피처에 추가\n",
    "    # 리스트 각칸의 한 단어별로\n",
    "    for word in words:\n",
    "        if word in index2word_set:\n",
    "            nwords = nwords + 1\n",
    "            featureVec = np.add(featureVec, model[word])\n",
    "            \n",
    "    # 결과를 단어수로 나눠 평균 구함        \n",
    "    featureVec = np.divide(featureVec, nwords)\n",
    "    return featureVec"
   ]
  },
  {
   "cell_type": "code",
   "execution_count": 21,
   "metadata": {},
   "outputs": [],
   "source": [
    "# 리뷰 단어 목록의 각각 평균 feature 벡터 계산, 2D numpy 배열 반환\n",
    "# 정제된 list 넘어옴 = review\n",
    "\n",
    "def getAvgFeatureVecs(reviews, model, num_features):\n",
    "    # counter 초기화\n",
    "    counter = 0.\n",
    "    \n",
    "    # 0으로 채운 2D numpy 배열로 할당\n",
    "    reviewFeatureVecs = np.zeros((len(reviews),num_features), dtype=\"float32\")\n",
    "    \n",
    "    for review in reviews:\n",
    "        # 평균 피처 벡터만드는 함수 호출\n",
    "        reviewFeatureVecs[int(counter)] = makeFeatureVec(review, model, num_features)\n",
    "        \n",
    "        #counter 증가시킴\n",
    "        counter = counter + 1\n",
    "        \n",
    "    return reviewFeatureVecs"
   ]
  },
  {
   "cell_type": "code",
   "execution_count": 22,
   "metadata": {},
   "outputs": [],
   "source": [
    "# 텍스트 정제하는 함수\n",
    "def getCleanTexts(train):\n",
    "    clean_texts = []\n",
    "    for text in train['text']:\n",
    "        clean_texts.append(preprocessing(text, tokenizer, remove_stopwords=True))\n",
    "        \n",
    "    return clean_texts"
   ]
  },
  {
   "cell_type": "markdown",
   "metadata": {},
   "source": [
    "### 텍스트 벡터화"
   ]
  },
  {
   "cell_type": "code",
   "execution_count": 23,
   "metadata": {
    "scrolled": true
   },
   "outputs": [
    {
     "name": "stdout",
     "output_type": "stream",
     "text": [
      "Wall time: 10.7 s\n"
     ]
    }
   ],
   "source": [
    "%time trainDataVecs = getAvgFeatureVecs(getCleanTexts(train_data), model, num_features)"
   ]
  },
  {
   "cell_type": "code",
   "execution_count": 24,
   "metadata": {
    "scrolled": true
   },
   "outputs": [
    {
     "name": "stdout",
     "output_type": "stream",
     "text": [
      "Wall time: 1.52 s\n"
     ]
    }
   ],
   "source": [
    "%time testDataVecs = getAvgFeatureVecs(getCleanTexts(test_data), model, num_features)"
   ]
  },
  {
   "cell_type": "markdown",
   "metadata": {},
   "source": [
    "### 훈련, 검증, 테스트 데이터 분리"
   ]
  },
  {
   "cell_type": "code",
   "execution_count": 25,
   "metadata": {},
   "outputs": [],
   "source": [
    "from sklearn.model_selection import train_test_split\n",
    "\n",
    "X_features = trainDataVecs\n",
    "y_labels = train_data['sentiment'].astype('int')\n",
    "\n",
    "X_train, X_valid, y_train, y_valid = train_test_split(X_features, y_labels, test_size=0.2, random_state=2020)\n",
    "\n",
    "X_test = testDataVecs\n",
    "y_test = test_data['sentiment'].astype('int')"
   ]
  },
  {
   "cell_type": "markdown",
   "metadata": {},
   "source": [
    "### 훈련 데이터 결측치 처리"
   ]
  },
  {
   "cell_type": "code",
   "execution_count": 26,
   "metadata": {},
   "outputs": [
    {
     "data": {
      "text/plain": [
       "array([[   28,     0],\n",
       "       [   28,     1],\n",
       "       [   28,     2],\n",
       "       ...,\n",
       "       [12951,   297],\n",
       "       [12951,   298],\n",
       "       [12951,   299]], dtype=int64)"
      ]
     },
     "execution_count": 26,
     "metadata": {},
     "output_type": "execute_result"
    }
   ],
   "source": [
    "# X_train에 결측치 유무 확인\n",
    "np.argwhere(np.isnan(X_train))"
   ]
  },
  {
   "cell_type": "code",
   "execution_count": 27,
   "metadata": {},
   "outputs": [
    {
     "data": {
      "text/plain": [
       "array([[ 0.01675979,  0.02250945,  0.01868851, ..., -0.02713728,\n",
       "         0.04263344,  0.0250473 ],\n",
       "       [ 0.00384419,  0.10357732, -0.00674484, ...,  0.08919662,\n",
       "         0.0189111 ,  0.04260093],\n",
       "       [ 0.01157504,  0.06630652,  0.0057553 , ...,  0.10135307,\n",
       "         0.00713612,  0.05337464],\n",
       "       ...,\n",
       "       [ 0.00784472,  0.07791059,  0.00309383, ...,  0.05106642,\n",
       "         0.03233997,  0.04278511],\n",
       "       [-0.00472401,  0.11694765, -0.01024401, ...,  0.10957284,\n",
       "         0.01706355,  0.04593765],\n",
       "       [-0.01839467,  0.11667078, -0.00915575, ...,  0.11205899,\n",
       "         0.01320203,  0.03634506]], dtype=float32)"
      ]
     },
     "execution_count": 27,
     "metadata": {},
     "output_type": "execute_result"
    }
   ],
   "source": [
    "# X_train의 결측치 평균으로 대치\n",
    "X_train = np.nan_to_num(X_train)\n",
    "X_train[np.isnan(X_train)] = np.mean(X_train)\n",
    "X_train"
   ]
  },
  {
   "cell_type": "markdown",
   "metadata": {},
   "source": [
    "### 검증 데이터 결측치 처리 (훈련 데이터와 동일)"
   ]
  },
  {
   "cell_type": "code",
   "execution_count": 28,
   "metadata": {},
   "outputs": [
    {
     "data": {
      "text/plain": [
       "array([[  16,    0],\n",
       "       [  16,    1],\n",
       "       [  16,    2],\n",
       "       ...,\n",
       "       [3272,  297],\n",
       "       [3272,  298],\n",
       "       [3272,  299]], dtype=int64)"
      ]
     },
     "execution_count": 28,
     "metadata": {},
     "output_type": "execute_result"
    }
   ],
   "source": [
    "np.argwhere(np.isnan(X_valid))"
   ]
  },
  {
   "cell_type": "code",
   "execution_count": 29,
   "metadata": {},
   "outputs": [
    {
     "data": {
      "text/plain": [
       "array([[-0.01926955,  0.13488826, -0.02296158, ...,  0.1046252 ,\n",
       "         0.00906781,  0.03182385],\n",
       "       [-0.00218758,  0.10204604, -0.01202081, ...,  0.035837  ,\n",
       "         0.03422397,  0.02505171],\n",
       "       [-0.03118591,  0.13910522, -0.0379652 , ...,  0.11315769,\n",
       "        -0.00280335,  0.01026772],\n",
       "       ...,\n",
       "       [-0.01228986,  0.11895913, -0.01520921, ...,  0.13805091,\n",
       "        -0.00360509,  0.04366026],\n",
       "       [-0.00623794,  0.08685693,  0.00296267, ...,  0.02865428,\n",
       "         0.04776416,  0.02973313],\n",
       "       [ 0.        ,  0.        ,  0.        , ...,  0.        ,\n",
       "         0.        ,  0.        ]], dtype=float32)"
      ]
     },
     "execution_count": 29,
     "metadata": {},
     "output_type": "execute_result"
    }
   ],
   "source": [
    "X_valid = np.nan_to_num(X_valid)\n",
    "X_valid[np.isnan(X_valid)] = np.mean(X_valid)\n",
    "X_valid"
   ]
  },
  {
   "cell_type": "markdown",
   "metadata": {},
   "source": [
    "### 테스트 데이터 결측치 처리  (훈련 데이터와 동일)"
   ]
  },
  {
   "cell_type": "code",
   "execution_count": 30,
   "metadata": {},
   "outputs": [
    {
     "data": {
      "text/plain": [
       "array([[  12,    0],\n",
       "       [  12,    1],\n",
       "       [  12,    2],\n",
       "       ...,\n",
       "       [2094,  297],\n",
       "       [2094,  298],\n",
       "       [2094,  299]], dtype=int64)"
      ]
     },
     "execution_count": 30,
     "metadata": {},
     "output_type": "execute_result"
    }
   ],
   "source": [
    "np.argwhere(np.isnan(X_test))"
   ]
  },
  {
   "cell_type": "code",
   "execution_count": 31,
   "metadata": {},
   "outputs": [
    {
     "data": {
      "text/plain": [
       "array([[-0.00203001,  0.09485388, -0.01587339, ...,  0.08020368,\n",
       "         0.0201322 ,  0.03676275],\n",
       "       [-0.00185658,  0.11282672, -0.01348725, ...,  0.11570454,\n",
       "         0.01029878,  0.04693563],\n",
       "       [ 0.02386784, -0.00896012,  0.02266305, ..., -0.05748982,\n",
       "         0.03855301,  0.020691  ],\n",
       "       ...,\n",
       "       [-0.01412031,  0.1246073 , -0.03028169, ...,  0.12250342,\n",
       "        -0.00595896,  0.03120884],\n",
       "       [ 0.000312  ,  0.08710513,  0.00378743, ...,  0.09968013,\n",
       "         0.01243629,  0.04775744],\n",
       "       [ 0.04139678, -0.0438943 ,  0.05319297, ...,  0.13420956,\n",
       "        -0.0259742 ,  0.08962701]], dtype=float32)"
      ]
     },
     "execution_count": 31,
     "metadata": {},
     "output_type": "execute_result"
    }
   ],
   "source": [
    "X_test = np.nan_to_num(X_test)\n",
    "X_test[np.isnan(X_test)] = np.mean(X_test)\n",
    "X_test"
   ]
  },
  {
   "cell_type": "markdown",
   "metadata": {},
   "source": [
    "---\n",
    "# 4. 모델링 및 학습"
   ]
  },
  {
   "cell_type": "code",
   "execution_count": 32,
   "metadata": {},
   "outputs": [],
   "source": [
    "from sklearn.ensemble import RandomForestClassifier"
   ]
  },
  {
   "cell_type": "code",
   "execution_count": 33,
   "metadata": {},
   "outputs": [],
   "source": [
    "forest = RandomForestClassifier(n_estimators=300, n_jobs=-1, random_state=2018)"
   ]
  },
  {
   "cell_type": "code",
   "execution_count": 34,
   "metadata": {
    "scrolled": true
   },
   "outputs": [
    {
     "name": "stdout",
     "output_type": "stream",
     "text": [
      "Wall time: 27.5 s\n"
     ]
    }
   ],
   "source": [
    "%time forest = forest.fit(X_train, y_train)"
   ]
  },
  {
   "cell_type": "markdown",
   "metadata": {},
   "source": [
    "---\n",
    "# 5. 모델 검증 및 예측"
   ]
  },
  {
   "cell_type": "code",
   "execution_count": 35,
   "metadata": {},
   "outputs": [
    {
     "name": "stdout",
     "output_type": "stream",
     "text": [
      "Wall time: 49.6 s\n",
      "0.8482538234648631\n"
     ]
    }
   ],
   "source": [
    "from sklearn.model_selection import cross_val_score\n",
    "%time score = np.mean(cross_val_score(forest, X_valid, y_valid, cv=10, scoring='roc_auc'))\n",
    "\n",
    "print(score)"
   ]
  },
  {
   "cell_type": "code",
   "execution_count": 36,
   "metadata": {},
   "outputs": [],
   "source": [
    "result = forest.predict(X_test)"
   ]
  },
  {
   "cell_type": "code",
   "execution_count": 37,
   "metadata": {
    "scrolled": true
   },
   "outputs": [
    {
     "data": {
      "text/html": [
       "<div>\n",
       "<style scoped>\n",
       "    .dataframe tbody tr th:only-of-type {\n",
       "        vertical-align: middle;\n",
       "    }\n",
       "\n",
       "    .dataframe tbody tr th {\n",
       "        vertical-align: top;\n",
       "    }\n",
       "\n",
       "    .dataframe thead th {\n",
       "        text-align: right;\n",
       "    }\n",
       "</style>\n",
       "<table border=\"1\" class=\"dataframe\">\n",
       "  <thead>\n",
       "    <tr style=\"text-align: right;\">\n",
       "      <th></th>\n",
       "      <th>sentiment</th>\n",
       "      <th>my_predict</th>\n",
       "    </tr>\n",
       "  </thead>\n",
       "  <tbody>\n",
       "    <tr>\n",
       "      <th>0</th>\n",
       "      <td>0</td>\n",
       "      <td>0</td>\n",
       "    </tr>\n",
       "    <tr>\n",
       "      <th>1</th>\n",
       "      <td>1</td>\n",
       "      <td>1</td>\n",
       "    </tr>\n",
       "    <tr>\n",
       "      <th>2</th>\n",
       "      <td>0</td>\n",
       "      <td>0</td>\n",
       "    </tr>\n",
       "    <tr>\n",
       "      <th>3</th>\n",
       "      <td>0</td>\n",
       "      <td>0</td>\n",
       "    </tr>\n",
       "    <tr>\n",
       "      <th>4</th>\n",
       "      <td>0</td>\n",
       "      <td>0</td>\n",
       "    </tr>\n",
       "    <tr>\n",
       "      <th>5</th>\n",
       "      <td>1</td>\n",
       "      <td>0</td>\n",
       "    </tr>\n",
       "    <tr>\n",
       "      <th>6</th>\n",
       "      <td>1</td>\n",
       "      <td>1</td>\n",
       "    </tr>\n",
       "    <tr>\n",
       "      <th>7</th>\n",
       "      <td>1</td>\n",
       "      <td>1</td>\n",
       "    </tr>\n",
       "    <tr>\n",
       "      <th>8</th>\n",
       "      <td>1</td>\n",
       "      <td>1</td>\n",
       "    </tr>\n",
       "    <tr>\n",
       "      <th>9</th>\n",
       "      <td>1</td>\n",
       "      <td>1</td>\n",
       "    </tr>\n",
       "  </tbody>\n",
       "</table>\n",
       "</div>"
      ],
      "text/plain": [
       "   sentiment  my_predict\n",
       "0          0           0\n",
       "1          1           1\n",
       "2          0           0\n",
       "3          0           0\n",
       "4          0           0\n",
       "5          1           0\n",
       "6          1           1\n",
       "7          1           1\n",
       "8          1           1\n",
       "9          1           1"
      ]
     },
     "execution_count": 37,
     "metadata": {},
     "output_type": "execute_result"
    }
   ],
   "source": [
    "comparison = pd.DataFrame(y_test)\n",
    "comparison['my_predict'] = result\n",
    "comparison.head(10)"
   ]
  },
  {
   "cell_type": "code",
   "execution_count": 38,
   "metadata": {
    "scrolled": false
   },
   "outputs": [
    {
     "name": "stdout",
     "output_type": "stream",
     "text": [
      "0.7980038022813688\n"
     ]
    }
   ],
   "source": [
    "evaluation = (comparison['sentiment'] == comparison['my_predict'])\n",
    "\n",
    "success = (evaluation == True).sum()\n",
    "failure = (evaluation == False).sum()\n",
    "\n",
    "print(success / (success + failure))"
   ]
  },
  {
   "cell_type": "code",
   "execution_count": 39,
   "metadata": {},
   "outputs": [
    {
     "name": "stdout",
     "output_type": "stream",
     "text": [
      "정확도:0.7980\n"
     ]
    }
   ],
   "source": [
    "from sklearn.metrics import accuracy_score\n",
    "\n",
    "pred = forest.predict(X_test)\n",
    "print('정확도:{0:.4f}'.format(accuracy_score(y_test, pred)))"
   ]
  },
  {
   "cell_type": "markdown",
   "metadata": {},
   "source": [
    "---\n",
    "# 6. 우울감 정도 구하기"
   ]
  },
  {
   "cell_type": "code",
   "execution_count": 115,
   "metadata": {},
   "outputs": [],
   "source": [
    "# 우울감 정도 구하는 함수\n",
    "def depress_analysis(text):\n",
    "    pos_words = pd.read_csv(\"positive_words.csv\").positive_list.tolist()\n",
    "    neg_words = pd.read_csv(\"negative_words.csv\").negative_list.tolist()\n",
    "    depr_words = pd.read_csv('depress_words.csv').depress_list.tolist()\n",
    "    \n",
    "    text = \" \".join(preprocessing(text, tokenizer, remove_stopwords=True))\n",
    "    \n",
    "    count_of_word = len(text.split())\n",
    "    \n",
    "    # 우울 단어 세기\n",
    "    depr = sum((1 for word in depr_words if text.count(word)>0)) * 3\n",
    "    \n",
    "    # 부정 단어 세기\n",
    "    neg = sum((1 for word in neg_words if text.count(word)>0)) * 2 + depr\n",
    "    \n",
    "    # 긍정 단어 세기\n",
    "    pos = sum((1 for word in pos_words if text.count(word)>0))\n",
    "    \n",
    "    # 중립 단어 세기\n",
    "    neu = count_of_word - (neg + pos)\n",
    "    \n",
    "    # 중립 단어 개수 빼기\n",
    "    count_of_word = count_of_word - neu\n",
    "    \n",
    "    try:\n",
    "        # 긍정비율\n",
    "        pos_ratio = pos / (pos + neg)\n",
    "\n",
    "        # 부정비율\n",
    "        neg_ratio = neg / (pos + neg)\n",
    "    except ZeroDivisionError:\n",
    "        pos_ratio = 0\n",
    "        neg_ratio = 0\n",
    "        \n",
    "    final_score = pos_ratio - neg_ratio\n",
    "    \n",
    "    return getAvgFeatureVecs([text], model, num_features), final_score"
   ]
  },
  {
   "cell_type": "code",
   "execution_count": 56,
   "metadata": {},
   "outputs": [
    {
     "data": {
      "text/html": [
       "<div>\n",
       "<style scoped>\n",
       "    .dataframe tbody tr th:only-of-type {\n",
       "        vertical-align: middle;\n",
       "    }\n",
       "\n",
       "    .dataframe tbody tr th {\n",
       "        vertical-align: top;\n",
       "    }\n",
       "\n",
       "    .dataframe thead th {\n",
       "        text-align: right;\n",
       "    }\n",
       "</style>\n",
       "<table border=\"1\" class=\"dataframe\">\n",
       "  <thead>\n",
       "    <tr style=\"text-align: right;\">\n",
       "      <th></th>\n",
       "      <th>text</th>\n",
       "      <th>sentiment</th>\n",
       "      <th>depr_amount</th>\n",
       "    </tr>\n",
       "  </thead>\n",
       "  <tbody>\n",
       "    <tr>\n",
       "      <th>0</th>\n",
       "      <td>Shanghai is also really exciting (precisely -...</td>\n",
       "      <td>0</td>\n",
       "      <td>0.636364</td>\n",
       "    </tr>\n",
       "    <tr>\n",
       "      <th>1</th>\n",
       "      <td>Recession hit Veronique Branquinho, she has to...</td>\n",
       "      <td>1</td>\n",
       "      <td>-0.500000</td>\n",
       "    </tr>\n",
       "    <tr>\n",
       "      <th>2</th>\n",
       "      <td>happy bday!</td>\n",
       "      <td>0</td>\n",
       "      <td>1.000000</td>\n",
       "    </tr>\n",
       "    <tr>\n",
       "      <th>3</th>\n",
       "      <td>http://twitpic.com/4w75p - I like it!!</td>\n",
       "      <td>0</td>\n",
       "      <td>0.428571</td>\n",
       "    </tr>\n",
       "    <tr>\n",
       "      <th>4</th>\n",
       "      <td>that`s great!! weee!! visitors!</td>\n",
       "      <td>0</td>\n",
       "      <td>1.000000</td>\n",
       "    </tr>\n",
       "    <tr>\n",
       "      <th>5</th>\n",
       "      <td>I THINK EVERYONE HATES ME ON HERE   lol</td>\n",
       "      <td>1</td>\n",
       "      <td>-0.200000</td>\n",
       "    </tr>\n",
       "    <tr>\n",
       "      <th>6</th>\n",
       "      <td>soooooo wish i could, but im in school and my...</td>\n",
       "      <td>1</td>\n",
       "      <td>-0.111111</td>\n",
       "    </tr>\n",
       "    <tr>\n",
       "      <th>7</th>\n",
       "      <td>My bike was put on hold...should have known th...</td>\n",
       "      <td>1</td>\n",
       "      <td>-0.411765</td>\n",
       "    </tr>\n",
       "    <tr>\n",
       "      <th>8</th>\n",
       "      <td>I`m in VA for the weekend, my youngest son tur...</td>\n",
       "      <td>1</td>\n",
       "      <td>-0.454545</td>\n",
       "    </tr>\n",
       "    <tr>\n",
       "      <th>9</th>\n",
       "      <td>Its coming out the socket  I feel like my phon...</td>\n",
       "      <td>1</td>\n",
       "      <td>0.076923</td>\n",
       "    </tr>\n",
       "  </tbody>\n",
       "</table>\n",
       "</div>"
      ],
      "text/plain": [
       "                                                text sentiment  depr_amount\n",
       "0   Shanghai is also really exciting (precisely -...         0     0.636364\n",
       "1  Recession hit Veronique Branquinho, she has to...         1    -0.500000\n",
       "2                                        happy bday!         0     1.000000\n",
       "3             http://twitpic.com/4w75p - I like it!!         0     0.428571\n",
       "4                    that`s great!! weee!! visitors!         0     1.000000\n",
       "5            I THINK EVERYONE HATES ME ON HERE   lol         1    -0.200000\n",
       "6   soooooo wish i could, but im in school and my...         1    -0.111111\n",
       "7  My bike was put on hold...should have known th...         1    -0.411765\n",
       "8  I`m in VA for the weekend, my youngest son tur...         1    -0.454545\n",
       "9  Its coming out the socket  I feel like my phon...         1     0.076923"
      ]
     },
     "execution_count": 56,
     "metadata": {},
     "output_type": "execute_result"
    }
   ],
   "source": [
    "# 테스트 데이터 적용 예시\n",
    "test_data['depr_amount'] = test_data['text'].apply(lambda x : depress_analysis(x)[1])\n",
    "test_data.head(10)"
   ]
  },
  {
   "cell_type": "markdown",
   "metadata": {},
   "source": [
    "---\n",
    "# 최종 결과 예시"
   ]
  },
  {
   "cell_type": "code",
   "execution_count": 116,
   "metadata": {},
   "outputs": [
    {
     "name": "stdout",
     "output_type": "stream",
     "text": [
      "당신은 59% 우울합니다\n"
     ]
    }
   ],
   "source": [
    "diary = \"today, i have been to a hospital to see a doctor.\\\n",
    "i had a fever and coughed severely. and i had a runny nose.\\\n",
    "i've come down with a bad cold.\\\n",
    "i thought it was because i was caught in a shower yesterday.\\\n",
    "the doctor gave me the prescription to take the medicine in the drug store.\\\n",
    "i was supposed to take three pills three times a day after each meal.\\\n",
    "i felt so sleepy after taking the medicine.\\\n",
    "i thought it was a common side effect.\\\n",
    "i wanted to lie down and relax.\\\n",
    "i want to go to bed early. today, i didn't my homework.\\\n",
    "tomorrow morning, i will do it.\\\n",
    "i had a terrible headache.\\\n",
    "i realize health is more important than any other thing.\\\n",
    "to be more healthy, i have to exercise regularly.\\\n",
    "even though i have not much time to exercise, i'll try to start by doing simple exercises such as running and skipping.\"\n",
    "result = depress_analysis(diary)\n",
    "depr_check = bool(forest.predict(result[0]))\n",
    "score = result[1]\n",
    "\n",
    "if score < 0:\n",
    "    score =  int(- score * 100)\n",
    "\n",
    "if depr_check:\n",
    "    print(f'당신은 {score}% 우울합니다')\n",
    "else:\n",
    "    print('당신은 우울하지 않습니다.')"
   ]
  },
  {
   "cell_type": "code",
   "execution_count": 117,
   "metadata": {},
   "outputs": [
    {
     "name": "stdout",
     "output_type": "stream",
     "text": [
      "당신은 우울하지 않습니다.\n"
     ]
    }
   ],
   "source": [
    "diary = \"Today, it is finally the announcement date of the certification result.\\\n",
    "I have been looking forward to my results because I studied hard.\\\n",
    "If I pass, I feel like I'm going away.\\\n",
    "The moment I saw the result, I was happy and felt like I had everything in this world.\\\n",
    "I think happy days will continue for me in the future.\\\n",
    "With this mindset, I want to do other things harder to achieve my goals and succeed.\"\n",
    "result = depress_analysis(diary)\n",
    "depr_check = bool(forest.predict(result[0]))\n",
    "score = result[1]\n",
    "\n",
    "if score < 0:\n",
    "    score =  int(- score * 100)\n",
    "\n",
    "if depr_check:\n",
    "    print(f'당신은 {score}% 우울합니다')\n",
    "else:\n",
    "    print('당신은 우울하지 않습니다.')"
   ]
  },
  {
   "cell_type": "code",
   "execution_count": 118,
   "metadata": {},
   "outputs": [
    {
     "name": "stdout",
     "output_type": "stream",
     "text": [
      "당신은 47% 우울합니다\n"
     ]
    }
   ],
   "source": [
    "diary = \"It felt darker this evening.\\\n",
    "Because I just broke up with my boyfriend.\\\n",
    "He said that the time he spent with me was lonely.\\\n",
    "As soon as I heard him, I was shocked.\\\n",
    "For two hours he left me with hurtful words.\\\n",
    "The clouds were full on the way home from him.\\\n",
    "My heart seems to be cloudy.\\\n",
    "I cried when I came home and saw the pictures I took with him.\\\n",
    "My mood became gloomy and grey.\\\n",
    "When the man I love left, I felt like a pitiful woman.\\\n",
    "What should I do from now on?\"\n",
    "result = depress_analysis(diary)\n",
    "depr_check = bool(forest.predict(result[0]))\n",
    "score = result[1]\n",
    "\n",
    "if score < 0:\n",
    "    score =  int(- score * 100)\n",
    "\n",
    "if depr_check:\n",
    "    print(f'당신은 {score}% 우울합니다')\n",
    "else:\n",
    "    print('당신은 우울하지 않습니다.')"
   ]
  }
 ],
 "metadata": {
  "kernelspec": {
   "display_name": "Python 3",
   "language": "python",
   "name": "python3"
  },
  "language_info": {
   "codemirror_mode": {
    "name": "ipython",
    "version": 3
   },
   "file_extension": ".py",
   "mimetype": "text/x-python",
   "name": "python",
   "nbconvert_exporter": "python",
   "pygments_lexer": "ipython3",
   "version": "3.7.6"
  }
 },
 "nbformat": 4,
 "nbformat_minor": 4
}
